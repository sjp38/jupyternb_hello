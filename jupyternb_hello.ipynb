{
  "nbformat": 4,
  "nbformat_minor": 0,
  "metadata": {
    "colab": {
      "name": "jupyternb_hello.ipynb",
      "version": "0.3.2",
      "views": {},
      "default_view": {},
      "provenance": []
    },
    "kernelspec": {
      "name": "python3",
      "display_name": "Python 3"
    }
  },
  "cells": [
    {
      "metadata": {
        "id": "oeI14MneiQef",
        "colab_type": "text"
      },
      "cell_type": "markdown",
      "source": [
        "# Hello Jupyter Notebook"
      ]
    },
    {
      "metadata": {
        "id": "l1ASWw8HiNMC",
        "colab_type": "code",
        "colab": {
          "autoexec": {
            "startup": false,
            "wait_interval": 0
          },
          "base_uri": "https://localhost:8080/",
          "height": 35
        },
        "outputId": "dcb447db-17f6-40b8-f65a-614ce0fbf880",
        "executionInfo": {
          "status": "ok",
          "timestamp": 1527507431585,
          "user_tz": -540,
          "elapsed": 779,
          "user": {
            "displayName": "SeongJae Park",
            "photoUrl": "//lh5.googleusercontent.com/-Kr7srrh56XQ/AAAAAAAAAAI/AAAAAAAALCA/5TggAKHXOss/s50-c-k-no/photo.jpg",
            "userId": "111302679105358219806"
          }
        }
      },
      "cell_type": "code",
      "source": [
        "print(\"Hello, Jupyter Notebook\")"
      ],
      "execution_count": 1,
      "outputs": [
        {
          "output_type": "stream",
          "text": [
            "Hello, Jupyter Notebook\n"
          ],
          "name": "stdout"
        }
      ]
    },
    {
      "metadata": {
        "id": "I1qHuuzsicpz",
        "colab_type": "text"
      },
      "cell_type": "markdown",
      "source": [
        "# Simple List Manupulation\n",
        "Python supports the List data structure"
      ]
    },
    {
      "metadata": {
        "id": "4t3ZpUjbiia3",
        "colab_type": "code",
        "colab": {
          "autoexec": {
            "startup": false,
            "wait_interval": 0
          },
          "base_uri": "https://localhost:8080/",
          "height": 53
        },
        "outputId": "ce621000-6e42-4be6-813a-30e49a36d860",
        "executionInfo": {
          "status": "ok",
          "timestamp": 1527507518984,
          "user_tz": -540,
          "elapsed": 679,
          "user": {
            "displayName": "SeongJae Park",
            "photoUrl": "//lh5.googleusercontent.com/-Kr7srrh56XQ/AAAAAAAAAAI/AAAAAAAALCA/5TggAKHXOss/s50-c-k-no/photo.jpg",
            "userId": "111302679105358219806"
          }
        }
      },
      "cell_type": "code",
      "source": [
        "foo = []\n",
        "foo.append(42)\n",
        "foo.append('bar')\n",
        "\n",
        "for entry in foo:\n",
        "  print(entry)"
      ],
      "execution_count": 4,
      "outputs": [
        {
          "output_type": "stream",
          "text": [
            "42\n",
            "bar\n"
          ],
          "name": "stdout"
        }
      ]
    }
  ]
}
